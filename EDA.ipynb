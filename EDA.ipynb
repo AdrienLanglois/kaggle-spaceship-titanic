{
 "cells": [
  {
   "cell_type": "code",
   "execution_count": 260,
   "metadata": {},
   "outputs": [],
   "source": [
    "import numpy as np\n",
    "import pandas as pd\n",
    "import matplotlib.pyplot as plt"
   ]
  },
  {
   "attachments": {},
   "cell_type": "markdown",
   "metadata": {},
   "source": [
    "### Get data"
   ]
  },
  {
   "cell_type": "code",
   "execution_count": 261,
   "metadata": {},
   "outputs": [],
   "source": [
    "train = pd.read_csv('data/train.csv')\n",
    "test = pd.read_csv('data/test.csv')\n",
    "datasets = [train, test]"
   ]
  },
  {
   "attachments": {},
   "cell_type": "markdown",
   "metadata": {},
   "source": [
    "### **data preprocessing**"
   ]
  },
  {
   "cell_type": "code",
   "execution_count": 262,
   "metadata": {},
   "outputs": [],
   "source": [
    "# basic preproc\n",
    "\n",
    "for df in datasets:\n",
    "    df.set_index('PassengerId', inplace=True)\n",
    "    df.drop(['Name', 'Cabin'], axis=1, inplace=True)\n",
    "    "
   ]
  },
  {
   "attachments": {},
   "cell_type": "markdown",
   "metadata": {},
   "source": [
    "handle missing values :\n",
    "VIP: we can fillna with False since only 2% of passengers are VIP\n",
    "CryoSleep: since this one has a great predictive power, we don't want to take any risk so let's just drop it\n",
    "\n",
    "convert boolean to integer\n"
   ]
  },
  {
   "cell_type": "code",
   "execution_count": 263,
   "metadata": {},
   "outputs": [],
   "source": [
    "for df in datasets:\n",
    "    df['VIP'].fillna(False, inplace=True)\n",
    "    \n",
    "    #df.dropna(subset=['CryoSleep'], inplace=True)\n",
    "    df['CryoSleep'] = df['CryoSleep'].fillna(False)\n",
    "    \n",
    "    \n",
    "    df['CryoSleep'] = df['CryoSleep'].astype(int)\n",
    "    df['VIP'] = df['VIP'].astype(int)"
   ]
  },
  {
   "attachments": {},
   "cell_type": "markdown",
   "metadata": {},
   "source": [
    "encoding"
   ]
  },
  {
   "cell_type": "code",
   "execution_count": 264,
   "metadata": {},
   "outputs": [],
   "source": [
    "home_planet_encoder = {'Europa': 1, 'Mars':'2', 'Earth':3}\n",
    "destination_encoder = {'55 Cancri e':1,'PSO J318.5-22':2,'TRAPPIST-1e':3}\n",
    "\n",
    "for df in datasets:\n",
    "    df['HomePlanet'] = df['HomePlanet'].map(home_planet_encoder)\n",
    "    df['Destination'] = df['Destination'].map(destination_encoder)\n",
    "    \n"
   ]
  },
  {
   "attachments": {},
   "cell_type": "markdown",
   "metadata": {},
   "source": [
    "handle missing values"
   ]
  },
  {
   "cell_type": "code",
   "execution_count": 265,
   "metadata": {},
   "outputs": [],
   "source": [
    "for df in datasets:\n",
    "    df.fillna(df.median(), inplace=True)"
   ]
  },
  {
   "attachments": {},
   "cell_type": "markdown",
   "metadata": {},
   "source": []
  },
  {
   "attachments": {},
   "cell_type": "markdown",
   "metadata": {},
   "source": [
    "## data analysis"
   ]
  },
  {
   "cell_type": "code",
   "execution_count": 266,
   "metadata": {},
   "outputs": [
    {
     "name": "stdout",
     "output_type": "stream",
     "text": [
      "HomePlanet\n",
      "3    4803\n",
      "1    2131\n",
      "2    1759\n",
      "Name: count, dtype: int64\n",
      "CryoSleep\n",
      "0    5656\n",
      "1    3037\n",
      "Name: count, dtype: int64\n",
      "Destination\n",
      "3.0    6097\n",
      "1.0    1800\n",
      "2.0     796\n",
      "Name: count, dtype: int64\n",
      "VIP\n",
      "0    8494\n",
      "1     199\n",
      "Name: count, dtype: int64\n"
     ]
    }
   ],
   "source": [
    "print(train['HomePlanet'].value_counts())\n",
    "print(train['CryoSleep'].value_counts())\n",
    "print(train['Destination'].value_counts())\n",
    "print(train['VIP'].value_counts())"
   ]
  },
  {
   "cell_type": "code",
   "execution_count": 267,
   "metadata": {},
   "outputs": [
    {
     "data": {
      "text/plain": [
       "0"
      ]
     },
     "execution_count": 267,
     "metadata": {},
     "output_type": "execute_result"
    }
   ],
   "source": [
    "# check missing values\n",
    "train.shape[0] - train.dropna().shape[0]"
   ]
  },
  {
   "cell_type": "code",
   "execution_count": 268,
   "metadata": {},
   "outputs": [
    {
     "data": {
      "text/plain": [
       "0.5036236051995858"
      ]
     },
     "execution_count": 268,
     "metadata": {},
     "output_type": "execute_result"
    }
   ],
   "source": [
    "# check transported repartition\n",
    "train['Transported'].mean()"
   ]
  },
  {
   "cell_type": "code",
   "execution_count": 269,
   "metadata": {},
   "outputs": [
    {
     "name": "stdout",
     "output_type": "stream",
     "text": [
      "Index(['HomePlanet', 'CryoSleep', 'Destination', 'Age', 'VIP', 'RoomService',\n",
      "       'FoodCourt', 'ShoppingMall', 'Spa', 'VRDeck'],\n",
      "      dtype='object')\n",
      "            Transported\n",
      "HomePlanet             \n",
      "1              0.658846\n",
      "2              0.523024\n",
      "3              0.427649\n",
      "           Transported\n",
      "CryoSleep             \n",
      "1             0.817583\n",
      "0             0.335042\n",
      "             Transported\n",
      "Destination             \n",
      "1.0             0.610000\n",
      "2.0             0.503769\n",
      "3.0             0.472199\n",
      "     Transported\n",
      "VIP             \n",
      "0       0.506475\n",
      "1       0.381910\n"
     ]
    }
   ],
   "source": [
    "# check for data importance\n",
    "\n",
    "def ratio(series) -> float:\n",
    "    return 100 * sum(series)/len(series)\n",
    "\n",
    "def inspect_transported_by(label:str):\n",
    "    print(train[['HomePlanet','Transported']]\n",
    "        .groupby(['HomePlanet']).mean()\n",
    "        .sort_values(by='Transported', ascending=False)\n",
    "    )\n",
    "\n",
    "train['Transported'] = train['Transported'].astype(int)\n",
    "\n",
    "print(train.columns.drop(['Transported']))\n",
    "\n",
    "for col in ['HomePlanet', 'CryoSleep', 'Destination','VIP']:\n",
    "    print(train[[col,'Transported']]\n",
    "        .groupby([col]).mean()\n",
    "        .sort_values(by='Transported', ascending=False)\n",
    "    )\n",
    "\n"
   ]
  },
  {
   "cell_type": "code",
   "execution_count": 270,
   "metadata": {},
   "outputs": [
    {
     "data": {
      "image/png": "[encoded data removed]",
      "text/plain": [
       "<Figure size 1000x100 with 1 Axes>"
      ]
     },
     "metadata": {},
     "output_type": "display_data"
    },
    {
     "data": {
      "image/png": "[encoded data removed]",
      "text/plain": [
       "<Figure size 1000x100 with 1 Axes>"
      ]
     },
     "metadata": {},
     "output_type": "display_data"
    },
    {
     "data": {
      "image/png": "[encoded data removed]",
      "text/plain": [
       "<Figure size 1000x100 with 1 Axes>"
      ]
     },
     "metadata": {},
     "output_type": "display_data"
    }
   ],
   "source": [
    "def plot(label:str):\n",
    "    plt.figure(figsize=(10, 1))\n",
    "    plt.scatter(train[label], train['Transported'], alpha=0.5)\n",
    "    plt.xlabel(label)\n",
    "    plt.ylabel('Transported')\n",
    "    \n",
    "plot('Age')    \n",
    "\n",
    "money_spent_labels = [ 'FoodCourt', 'ShoppingMall']\n",
    "for label in money_spent_labels:\n",
    "    plot(label)\n",
    "    \n",
    "# train['TotalSpent'] = train[['RoomService','Spa', 'VRDeck']].sum(axis=1)\n",
    "# plot('TotalSpent')"
   ]
  },
  {
   "attachments": {},
   "cell_type": "markdown",
   "metadata": {},
   "source": [
    "## Model & prediction ##"
   ]
  },
  {
   "cell_type": "code",
   "execution_count": 271,
   "metadata": {},
   "outputs": [],
   "source": [
    "y = datasets[0]['Transported']\n",
    "X = datasets[0].drop('Transported', axis=1)\n",
    "X_test = datasets[1]"
   ]
  },
  {
   "cell_type": "code",
   "execution_count": 272,
   "metadata": {},
   "outputs": [],
   "source": [
    "from sklearn.ensemble import RandomForestClassifier\n",
    "\n",
    "model = RandomForestClassifier(n_estimators=100)\n",
    "model.fit(X,y)\n",
    "pred = model.predict(X_test)\n",
    "\n",
    "# save prediction\n",
    "pred_df = pd.DataFrame(pred, index=X_test.index, columns=[\"Transported\"])\n",
    "pred_df['Transported'] = pred_df['Transported'].astype(bool)\n",
    "pred_df.to_csv(\"predictions/first_predict.csv\")"
   ]
  }
 ],
 "metadata": {
  "kernelspec": {
   "display_name": "Python 3",
   "language": "python",
   "name": "python3"
  },
  "language_info": {
   "codemirror_mode": {
    "name": "ipython",
    "version": 3
   },
   "file_extension": ".py",
   "mimetype": "text/x-python",
   "name": "python",
   "nbconvert_exporter": "python",
   "pygments_lexer": "ipython3",
   "version": "3.10.12"
  },
  "orig_nbformat": 4
 },
 "nbformat": 4,
 "nbformat_minor": 2
}
